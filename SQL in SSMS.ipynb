{
 "cells": [
  {
   "cell_type": "markdown",
   "metadata": {},
   "source": [
    "<div class=\"alert alert-info alertinfo\" style=\"margin-top: 0px\">\n",
    "<h1>  PART1. SELECT - SQL Tools (SQL Server Management studio) </h1>\n",
    "</div>"
   ]
  },
  {
   "cell_type": "markdown",
   "metadata": {},
   "source": [
    "<div class=\"alert-danger\" style=\"margin-top: 0px\">\n",
    "<h1> Read me first </h1>\n",
    "</div>\n",
    "This are my notes from a book: \"Ben, Forta. SQL in 10 Minutes, Sams Teach Yourself. Pearson Education. Kindle Edition\" for quick \"copy and paste\" or simply to check the syntax of sql statements. \n",
    "The DBMS that I'm using is SQL Server Management studio so if you work in different DBMS some syntax might be different."
   ]
  },
  {
   "cell_type": "markdown",
   "metadata": {},
   "source": [
    "<div class=\"alert-success\" style=\"margin-top: 0px\">\n",
    "<h1> Retrieving Data </h1>\n",
    "</div>"
   ]
  },
  {
   "cell_type": "code",
   "execution_count": null,
   "metadata": {},
   "outputs": [],
   "source": [
    "SELECT prod_id, prod_name, prod_price\n",
    "FROM Products;"
   ]
  },
  {
   "cell_type": "code",
   "execution_count": null,
   "metadata": {},
   "outputs": [],
   "source": [
    "# Caution: Can’t Be Partially DISTINCT -it applies to all columns, not just the one it precedes. \n",
    "SELECT DISTINCT vend_id, prod_name\n",
    "FROM Products;"
   ]
  },
  {
   "cell_type": "code",
   "execution_count": null,
   "metadata": {},
   "outputs": [],
   "source": [
    "SELECT TOP 5 prod_name\n",
    "FROM Products; "
   ]
  },
  {
   "cell_type": "code",
   "execution_count": null,
   "metadata": {},
   "outputs": [],
   "source": [
    "# DOESN'T WORK IN SSMS!!!\n",
    "SELECT prod_name\n",
    "FROM Products\n",
    "LIMIT 5 OFFSET 5;"
   ]
  },
  {
   "cell_type": "markdown",
   "metadata": {},
   "source": [
    "<div class=\"alert-success\" style=\"margin-top: 0px\">\n",
    "<h1> ORDER BY </h1>\n",
    "</div>"
   ]
  },
  {
   "cell_type": "code",
   "execution_count": null,
   "metadata": {},
   "outputs": [],
   "source": [
    "# The following code retrieves three columns and sorts the results by two of them—\n",
    "# first by price (in descending order) and then by name (in ascending order as ASC is default).\n",
    "SELECT prod_id, prod_price, prod_name\n",
    "FROM Products\n",
    "ORDER BY prod_price DESC, prod_name;"
   ]
  },
  {
   "cell_type": "markdown",
   "metadata": {},
   "source": [
    "<div class=\"alert-success\" style=\"margin-top: 0px\">\n",
    "<h1> WHERE </h1>\n",
    "</div>"
   ]
  },
  {
   "cell_type": "code",
   "execution_count": null,
   "metadata": {},
   "outputs": [],
   "source": [
    "# BETWEEN\n",
    "SELECT prod_name, prod_price\n",
    "FROM Products\n",
    "WHERE prod_price BETWEEN 5 AND 10;"
   ]
  },
  {
   "cell_type": "code",
   "execution_count": null,
   "metadata": {},
   "outputs": [],
   "source": [
    "# IS NULL\n",
    "SELECT cust_name\n",
    "FROM Customers\n",
    "WHERE cust_email IS NULL;"
   ]
  },
  {
   "cell_type": "code",
   "execution_count": null,
   "metadata": {},
   "outputs": [],
   "source": [
    "# IN\n",
    "SELECT prod_name, prod_price\n",
    "FROM Products\n",
    "WHERE vend_id  IN ('DLL01','BRS01')\n",
    "ORDER BY prod_name;"
   ]
  },
  {
   "cell_type": "code",
   "execution_count": null,
   "metadata": {},
   "outputs": [],
   "source": [
    "# NOT\n",
    "SELECT prod_name\n",
    "FROM Products\n",
    "WHERE NOT vend_id  = 'DLL01'\n",
    "ORDER BY prod_name;"
   ]
  },
  {
   "cell_type": "code",
   "execution_count": null,
   "metadata": {},
   "outputs": [],
   "source": [
    "# LIKE (in SMSS is not case sensitive)\n",
    "SELECT Name, Town\n",
    "FROM [dbo].[BusinessInformation]\n",
    "WHERE Town LIKE 'bed%'\n",
    "\n",
    "# LIKE (in SMSS [JM]% stands for 'first letter is not J nor M')\n",
    "SELECT cust_contact\n",
    "FROM Customers\n",
    "WHERE cust_contact LIKE '[^JM]%'\n",
    "ORDER BY cust_contact;"
   ]
  },
  {
   "cell_type": "markdown",
   "metadata": {},
   "source": [
    "<div class=\"alert-success\" style=\"margin-top: 0px\">\n",
    "<h1> CALCULATED FIELDS </h1>\n",
    "</div>"
   ]
  },
  {
   "cell_type": "code",
   "execution_count": null,
   "metadata": {},
   "outputs": [],
   "source": [
    "SELECT vend_name + ' (' + vend_country + ')' AS vend_title\n",
    "FROM Vendors\n",
    "ORDER BY vend_name;"
   ]
  },
  {
   "cell_type": "code",
   "execution_count": null,
   "metadata": {},
   "outputs": [],
   "source": [
    "SELECT RTRIM(vend_name) + ' (' + RTRIM(vend_country) + ')' AS vend_title\n",
    "FROM Vendors\n",
    "ORDER BY vend_name;"
   ]
  },
  {
   "cell_type": "code",
   "execution_count": null,
   "metadata": {},
   "outputs": [],
   "source": [
    "SELECT prod_id,\n",
    "       quantity,\n",
    "       item_price,\n",
    "       quantity*item_price AS expanded_price\n",
    "FROM OrderItems\n",
    "WHERE order_num = 20008;"
   ]
  },
  {
   "cell_type": "markdown",
   "metadata": {},
   "source": [
    "<div class=\"alert-success\" style=\"margin-top: 0px\">\n",
    "<h1> AGGREGATE FUNCTIONS </h1>\n",
    "</div>"
   ]
  },
  {
   "cell_type": "code",
   "execution_count": null,
   "metadata": {},
   "outputs": [],
   "source": [
    "# aggregate functions\n",
    "AVG()\n",
    "COUNT()\n",
    "MAX()\n",
    "MIN()\n",
    "SUM()"
   ]
  },
  {
   "cell_type": "code",
   "execution_count": null,
   "metadata": {},
   "outputs": [],
   "source": [
    "SELECT AVG(prod_price) AS avg_price\n",
    "FROM Products\n",
    "WHERE vend_id = 'DLL01';"
   ]
  },
  {
   "cell_type": "code",
   "execution_count": null,
   "metadata": {},
   "outputs": [],
   "source": [
    "SELECT COUNT(*) AS num_cust # will count nans (DISTINCT will not work)\n",
    "FROM Customers;\n",
    "\n",
    "SELECT COUNT(cust_email) AS num_cust # will not count nans (DISTINCT will work)\n",
    "FROM Customers;"
   ]
  },
  {
   "cell_type": "markdown",
   "metadata": {},
   "source": [
    "<div class=\"alert-success\" style=\"margin-top: 0px\">\n",
    "<h1> OTHER FUNCTIONS </h1>\n",
    "</div>"
   ]
  },
  {
   "cell_type": "code",
   "execution_count": null,
   "metadata": {},
   "outputs": [],
   "source": [
    "# string functions\n",
    "SUBSTRING()\n",
    "LEFT()\n",
    "LENGTH() DATALENGTH() LEN()\n",
    "LOWER()\n",
    "RTRIM() LTRIM() TRIM()\n",
    "SOUNDEX()\n",
    "UPPER()"
   ]
  },
  {
   "cell_type": "code",
   "execution_count": null,
   "metadata": {},
   "outputs": [],
   "source": [
    "# numeric functions\n",
    "ABS()\n",
    "COS()\n",
    "EXP()\n",
    "PI()\n",
    "SIN()\n",
    "SQRT()\n",
    "TAN()"
   ]
  },
  {
   "cell_type": "code",
   "execution_count": null,
   "metadata": {},
   "outputs": [],
   "source": [
    "# date functions\n",
    "GETDATE()\n",
    "DATEPART()"
   ]
  },
  {
   "cell_type": "code",
   "execution_count": null,
   "metadata": {},
   "outputs": [],
   "source": [
    "# data type conversion\n",
    "CONVERT()"
   ]
  },
  {
   "cell_type": "code",
   "execution_count": null,
   "metadata": {},
   "outputs": [],
   "source": [
    "# Example: retrieve a list of all orders made in 2012 \n",
    "SELECT order_num\n",
    "FROM Orders\n",
    "WHERE DATEPART(yy, order_date) = 2012;"
   ]
  },
  {
   "cell_type": "markdown",
   "metadata": {},
   "source": [
    "<div class=\"alert-success\" style=\"margin-top: 0px\">\n",
    "<h1> GROUP BY </h1>\n",
    "</div>"
   ]
  },
  {
   "cell_type": "markdown",
   "metadata": {},
   "source": [
    "- GROUP BY clauses can contain as many columns as you want \n",
    "- you won’t get data back for each individual column level. \n",
    "- Every column listed in GROUP BY must be a retrieved column or a valid expression (but not an aggregate function)\n",
    "- Aliases cannot be used.\n",
    "- Most SQL implementations do not allow GROUP BY columns with variable length datatypes (such as text or memo fields).\n",
    "- Aside from the aggregate calculations statements, every column in your SELECT statement must be present in the GROUP BY clause. \n",
    "- If the grouping column contains a row with a NULL value, all nulls will be together as one group. \n",
    "- The GROUP BY clause must come after any WHERE clause and before any ORDER BY clause.\n",
    "- SMSS supports an optional ALL clause within GROUP BY. This clause can be used to return all groups, even those that have no matching rows (in which case the aggregate would return NULL).\n",
    "- to filter groups we use HAVING instead of WHERE.\n",
    "- As a rule, anytime you use a GROUP BY clause, you should also specify an ORDER BY clause. That is the only way to ensure that data will be sorted properly. Never rely on GROUP BY to sort your data.\n",
    "\n",
    "WHERE filters before data is grouped, and HAVING filters after data is grouped. This is an important distinction; rows that are eliminated by a WHERE clause will not be included in the group. This could change the calculated values which in turn could affect which groups are filtered based on the use of those values in the HAVING clause."
   ]
  },
  {
   "cell_type": "code",
   "execution_count": null,
   "metadata": {},
   "outputs": [],
   "source": [
    "example which lists all vendors who have two or more products priced at 4 or more:\n",
    "SELECT vend_id, COUNT(*) AS num_prods\n",
    "FROM Products\n",
    "WHERE prod_price >= 4\n",
    "GROUP BY vend_id\n",
    "HAVING COUNT(*) >= 2;"
   ]
  },
  {
   "cell_type": "markdown",
   "metadata": {},
   "source": [
    "<div class=\"alert-success\" style=\"margin-top: 0px\">\n",
    "<h1> SUBQUERRIES </h1>\n",
    "</div>"
   ]
  },
  {
   "cell_type": "markdown",
   "metadata": {},
   "source": [
    "- Subquery SELECT statements can only retrieve a single column. Attempting to retrieve multiple columns will return an error.\n",
    "- using subqueries is not always the most efficient way to perform this type of data retrieval. Joins are more efficient"
   ]
  },
  {
   "cell_type": "code",
   "execution_count": null,
   "metadata": {},
   "outputs": [],
   "source": [
    "example structure:\n",
    "    order_items has columns ['order_number','product_id']\n",
    "    orders has columns ['order_number','customer_id','order_date']\n",
    "    customers has columns ['customer_id','customer_name','customer_contact']"
   ]
  },
  {
   "cell_type": "code",
   "execution_count": null,
   "metadata": {},
   "outputs": [],
   "source": [
    "example 1: WE WANT A LIST OF ALL CUSTOMERS WHO ORDERED RGAN01\n",
    "\n",
    "    1. Retrieve the order numbers of all orders containing item RGAN01.\n",
    "\n",
    "        SELECT order_num\n",
    "        FROM OrderItems\n",
    "        WHERE prod_id = 'RGAN01';\n",
    "\n",
    "    2. Retrieve the customer ID of all the customers who have orders listed in the order numbers returned in the previous step.\n",
    "\n",
    "        SELECT cust_id\n",
    "        FROM Orders\n",
    "        WHERE order_num IN (SELECT order_num\n",
    "                            FROM OrderItems\n",
    "                            WHERE prod_id = 'RGAN01');\n",
    "\n",
    "    3. Retrieve the customer information for all the customer IDs returned in the previous step.    \n",
    "\n",
    "        SELECT customer_name, customer_contact\n",
    "        FROM customers\n",
    "        WHERE customer_id IN (SELECT cust_id\n",
    "                                FROM Orders\n",
    "                                WHERE order_num IN(SELECT order_num\n",
    "                                                    FROM OrderItems\n",
    "                                                    WHERE prod_id = 'RGAN01'));"
   ]
  },
  {
   "cell_type": "code",
   "execution_count": null,
   "metadata": {},
   "outputs": [],
   "source": [
    "# The same example solved more efficiently by JOIN\n",
    "SELECT c.cust_name, c.cust_contact\n",
    "FROM Customers c, Orders o, OrderItems oi\n",
    "WHERE c.cust_id = o.cust_id\n",
    "     AND oi.order_num = o.order_num\n",
    "     AND prod_id = 'RGAN01';"
   ]
  },
  {
   "cell_type": "code",
   "execution_count": null,
   "metadata": {},
   "outputs": [],
   "source": [
    "example structure:\n",
    "    order_items has columns ['order_number','product_id']\n",
    "    orders has columns ['order_number','customer_id','order_date']\n",
    "    customers has columns ['customer_id','customer_name','customer_contact']"
   ]
  },
  {
   "cell_type": "code",
   "execution_count": null,
   "metadata": {},
   "outputs": [],
   "source": [
    "Example 2: WE WANT THE TOTAL NUMBER OF ORDERS PLACED BY EVERY CUSTOMER IN CUSTOMERS TABLE\n",
    "\n",
    "    1. For each customer we get count by:\n",
    "        \n",
    "        SELECT COUNT(*) AS orders\n",
    "        FROM Orders\n",
    "        WHERE cust_id = '1000000001';\n",
    "\n",
    "    2. For every customer we get count by:\n",
    "    \n",
    "        SELECT \n",
    "            cust_name\n",
    "            , customer_contact\n",
    "            , (SELECT COUNT(*)\n",
    "                FROM Orders\n",
    "                WHERE Orders.cust_id = Customers.cust_id) \n",
    "                AS orders\n",
    "        FROM Customers\n",
    "        ORDER BY cust_name;"
   ]
  },
  {
   "cell_type": "code",
   "execution_count": null,
   "metadata": {},
   "outputs": [],
   "source": [
    "# The same example solved more efficiently by JOIN\n",
    "SELECT\n",
    "    c.cust_name\n",
    "    ,c.customer_contact\n",
    "    ,count(orders.*) '#Orders' # (orders.*) means count(*) from orders table\n",
    "FROM Customers c JOIN Orders o\n",
    "ON o.cust_id = c.cust_id\n",
    "Group by c.cust_name, c.customer_contact"
   ]
  },
  {
   "cell_type": "markdown",
   "metadata": {},
   "source": [
    "<div class=\"alert-success\" style=\"margin-top: 0px\">\n",
    "<h1> JOINS </h1>\n",
    "</div>"
   ]
  },
  {
   "cell_type": "markdown",
   "metadata": {},
   "source": [
    "# CROSS JOIN (Cartesian Product)"
   ]
  },
  {
   "cell_type": "code",
   "execution_count": null,
   "metadata": {},
   "outputs": [],
   "source": [
    "'''\n",
    "Without the WHERE clause,\n",
    "every row in the first table will be paired with every row in the second table,\n",
    "regardless of if they logically go together or not.\n",
    "'''\n",
    "\n",
    "SELECT vend_name, prod_name, prod_price\n",
    "FROM Vendors, Products"
   ]
  },
  {
   "cell_type": "markdown",
   "metadata": {},
   "source": [
    "# INNER JOIN "
   ]
  },
  {
   "cell_type": "code",
   "execution_count": null,
   "metadata": {},
   "outputs": [],
   "source": [
    "SELECT v.vend_name, p.prod_name, p.prod_price\n",
    "FROM Vendors v, Products p\n",
    "WHERE v.vend_id = p.vend_id;\n",
    "\n",
    "or\n",
    "\n",
    "SELECT vend_name, prod_name, prod_price\n",
    "FROM Vendors INNER JOIN Products\n",
    " ON Vendors.vend_id = Products.vend_id;"
   ]
  },
  {
   "cell_type": "code",
   "execution_count": null,
   "metadata": {},
   "outputs": [],
   "source": [
    "# multiple tables\n",
    "SELECT p.prod_name, v.vend_name, p.prod_price, o.quantity\n",
    "FROM OrderItems o, Products p, Vendors v\n",
    "WHERE p.vend_id = v.vend_id\n",
    "     AND o.prod_id = p.prod_id\n",
    "     AND order_num = 20007;"
   ]
  },
  {
   "cell_type": "markdown",
   "metadata": {},
   "source": [
    "# SELF JOIN"
   ]
  },
  {
   "cell_type": "code",
   "execution_count": null,
   "metadata": {},
   "outputs": [],
   "source": [
    "'''\n",
    "example:\n",
    "get all the customer contacts \n",
    "who work for the same company for which Jim Jones works.\n",
    "'''\n",
    "\n",
    "# using subquerry\n",
    "SELECT cust_id, cust_name, cust_contact\n",
    "FROM Customers\n",
    "WHERE cust_name = (SELECT cust_name\n",
    "                   FROM Customers\n",
    "                   WHERE cust_contact = 'Jim Jones');\n",
    "\n",
    "# using selfjoin\n",
    "SELECT c1.cust_id, c1.cust_name, c1.cust_contact\n",
    "FROM Customers AS c1, Customers AS c2\n",
    "WHERE c1.cust_name = c2.cust_name\n",
    "     AND c2.cust_contact = 'Jim Jones';"
   ]
  },
  {
   "cell_type": "markdown",
   "metadata": {},
   "source": [
    "# JOINS + AGGREGATE"
   ]
  },
  {
   "cell_type": "code",
   "execution_count": null,
   "metadata": {},
   "outputs": [],
   "source": [
    "SELECT Customers.cust_id,\n",
    "       COUNT(Orders.order_num) AS num_ord\n",
    "FROM Customers INNER JOIN Orders\n",
    "     ON Customers.cust_id = Orders.cust_id\n",
    "GROUP BY Customers.cust_id;"
   ]
  },
  {
   "cell_type": "markdown",
   "metadata": {},
   "source": [
    "<div class=\"alert-success\" style=\"margin-top: 0px\">\n",
    "<h1> UNION </h1>\n",
    "</div>"
   ]
  },
  {
   "cell_type": "markdown",
   "metadata": {},
   "source": [
    "- To return similarly structured data from different tables in a single query\n",
    "- To perform multiple queries against a single table returning the data as one query\n",
    "- Each query in a UNION must contain the same columns, expressions, or aggregate functions (and some DBMSs even require that columns be listed in the same order)\n",
    "- Column datatypes must be compatible: They need not be the exact same type, but they must be of a type that the DBMS can implicitly convert (for example, different numeric types or different date types).\n",
    "- UNION ALL to include duplicates\n",
    "\n",
    "Ben, Forta. SQL in 10 Minutes, Sams Teach Yourself (p. 141). Pearson Education. Kindle Edition. \n",
    "\n",
    "Ben, Forta. SQL in 10 Minutes, Sams Teach Yourself (p. 141). Pearson Education. Kindle Edition."
   ]
  },
  {
   "cell_type": "code",
   "execution_count": null,
   "metadata": {},
   "outputs": [],
   "source": [
    "SELECT cust_name, cust_contact, cust_email\n",
    "FROM Customers\n",
    "WHERE cust_state IN ('IL','IN','MI')\n",
    "    UNION\n",
    "SELECT cust_name, cust_contact, cust_email\n",
    "FROM Customers\n",
    "WHERE cust_name = 'Fun4All'; "
   ]
  },
  {
   "cell_type": "code",
   "execution_count": null,
   "metadata": {},
   "outputs": [],
   "source": []
  },
  {
   "cell_type": "code",
   "execution_count": null,
   "metadata": {},
   "outputs": [],
   "source": []
  },
  {
   "cell_type": "code",
   "execution_count": null,
   "metadata": {},
   "outputs": [],
   "source": []
  },
  {
   "cell_type": "code",
   "execution_count": null,
   "metadata": {},
   "outputs": [],
   "source": []
  }
 ],
 "metadata": {
  "kernelspec": {
   "display_name": "Python 3",
   "language": "python",
   "name": "python3"
  },
  "language_info": {
   "codemirror_mode": {
    "name": "ipython",
    "version": 3
   },
   "file_extension": ".py",
   "mimetype": "text/x-python",
   "name": "python",
   "nbconvert_exporter": "python",
   "pygments_lexer": "ipython3",
   "version": "3.8.5"
  }
 },
 "nbformat": 4,
 "nbformat_minor": 4
}
